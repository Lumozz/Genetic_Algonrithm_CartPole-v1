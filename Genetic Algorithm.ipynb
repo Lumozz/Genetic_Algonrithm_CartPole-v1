{
 "cells": [
  {
   "cell_type": "markdown",
   "metadata": {},
   "source": [
    "# 遗传算法"
   ]
  },
  {
   "cell_type": "markdown",
   "metadata": {},
   "source": [
    "_本项目所有代码，结果数据，图片等均已开源，遵循MIT开源协议 Lumozz https://github.com/Lumozz/Genetic_Algonrithm_CartPole-v1_"
   ]
  },
  {
   "cell_type": "markdown",
   "metadata": {},
   "source": [
    "- 本项目将通过尽可能直观的方式展示遗传算法(Genetic Algonrithm)的基本思想与计算流程，因此，本项目将重点放在了思想与流程上，对于其中的数学证明细节，本项目不做深究。\n",
    "- 遗传算法最早由J.D.Bagley在1967年提出，经过了半个世纪的发展，如今已经成为了一种成熟的具有极高鲁棒性和广泛适用性的全局优化算法。这一算法仿照了真实生物的繁衍方式，即物竞天择，适者生存。\n",
    "- 中学生物课堂教给了我们基础的生物遗传过程，这一过程大致可以分为三个部分：选择、交叉、变异。  \n",
    "\n",
    "\n",
    "    - 选择是指从群体中选择优良的个体并淘汰劣质个体的操作。\n",
    "    - 交叉是指把两个父代个体的部分结构加以替换重组，生成新的个体。\n",
    "    - 变异就是以很小的概率随机地改变群体中某些个体的染色体的某些基因。  \n",
    "    \n",
    "在以下示例中，我们将构造一个机器人群体，设计他们的基因结构，然后让他们按照自然界生物的进化方式，淘汰弱者，孕育子代，不断往复循环，最终得到一个高度进化的机器人群体。"
   ]
  },
  {
   "cell_type": "markdown",
   "metadata": {},
   "source": [
    "## 导入依赖包与环境"
   ]
  },
  {
   "cell_type": "markdown",
   "metadata": {},
   "source": [
    "gym包是openAI公司的开源项目，该项目提供了一系列的环境，以支持机器学习，尤其是强化学习的发展。\n",
    "在本项目中，我们使用gym的“**CartPole-v1**”环境，这个环境可以看作一个小游戏，有一个黑色的滑块可以受控制地左右移动，滑块上立着一根杆子，杆子的一端连在滑块上，可以自由旋转。我们要做的事就是控制滑块的左右移动，让上方的杆子保持直立，保持的时间越长，得分越高。一旦杆子倒下超过15°，视为游戏结束。"
   ]
  },
  {
   "attachments": {},
   "cell_type": "markdown",
   "metadata": {},
   "source": [
    "先来看一下界面是什么样子的  \n",
    "<img src=\"pic/00.png\" width = \"400\" height = \"300\" alt=\"pic\" align=center />"
   ]
  },
  {
   "cell_type": "code",
   "execution_count": 1,
   "metadata": {},
   "outputs": [],
   "source": [
    "import gym\n",
    "import numpy as np"
   ]
  },
  {
   "cell_type": "code",
   "execution_count": 2,
   "metadata": {},
   "outputs": [
    {
     "name": "stdout",
     "output_type": "stream",
     "text": [
      "\u001b[33mWARN: gym.spaces.Box autodetected dtype as <class 'numpy.float32'>. Please provide explicit dtype.\u001b[0m\n"
     ]
    },
    {
     "name": "stderr",
     "output_type": "stream",
     "text": [
      "E:\\anaconda\\lib\\site-packages\\gym\\envs\\registration.py:14: PkgResourcesDeprecationWarning: Parameters to load are deprecated.  Call .resolve and .require separately.\n",
      "  result = entry_point.load(False)\n"
     ]
    },
    {
     "data": {
      "text/plain": [
       "[1]"
      ]
     },
     "execution_count": 2,
     "metadata": {},
     "output_type": "execute_result"
    }
   ],
   "source": [
    "env = gym.make('CartPole-v1')\n",
    "env.seed(1)"
   ]
  },
  {
   "cell_type": "markdown",
   "metadata": {},
   "source": [
    "## 设置种群个体数量"
   ]
  },
  {
   "cell_type": "markdown",
   "metadata": {},
   "source": [
    "一个种群中不可能只有一个个体，为了让这个机器人种群中的基因更加丰富，在此，我们设置一万个初始机器人。这些机器人是所有后续机器人的祖先。"
   ]
  },
  {
   "cell_type": "code",
   "execution_count": 3,
   "metadata": {},
   "outputs": [],
   "source": [
    "number_of_robots = 10000"
   ]
  },
  {
   "cell_type": "markdown",
   "metadata": {},
   "source": [
    "## 定义基因"
   ]
  },
  {
   "cell_type": "markdown",
   "metadata": {},
   "source": [
    "我们之前设置的“立杆子”的小游戏，可以看作机器人种群生存的环境，他们从出生那一刻起，就要去立杆子，机器人可以观察到滑块的位置、速度，杆子的位置、角速度四项信息，而它们的可以根据观察到的信息做出动作，动作很简单，只有向左或者向右，可以用一个数值来表示，0表示向左，1表示向右。"
   ]
  },
  {
   "cell_type": "code",
   "execution_count": 4,
   "metadata": {},
   "outputs": [
    {
     "name": "stdout",
     "output_type": "stream",
     "text": [
      "Box(4,) Discrete(2)\n"
     ]
    }
   ],
   "source": [
    "print(env.observation_space,env.action_space)"
   ]
  },
  {
   "cell_type": "markdown",
   "metadata": {},
   "source": [
    "要把四个数值的观察值映射到一个数值的动作值，神经网络函数再适合不过了。\n",
    "所谓神经网络，实际上就是一堆一元一次函数的组合，组合的方式就构成了神经网络的结构，在固定的结构下，每个函数中的参数值就决定了一定的输入会得到什么样的输出。\n",
    "因此，我们把神经网络中的参数值看作机器人的“基因”。\n",
    "在初始状态下，种群中一万个机器人的基因都是随机数，我们来定义一个robot_gene类，里面随机初始化了神经了网络各层的参数，在直观上，我们将它看作随机的初始化基因"
   ]
  },
  {
   "cell_type": "code",
   "execution_count": 5,
   "metadata": {},
   "outputs": [],
   "source": [
    "class robot_gene():\n",
    "    def __init__(self, number_of_robots=1000):\n",
    "        self.weight1 = np.random.randn(number_of_robots, 6, 4)\n",
    "        self.bais1 = np.random.randn(number_of_robots, 6)\n",
    "        self.weight2 = np.random.randn(number_of_robots, 1, 6)\n",
    "        self.bais2 = np.random.randn(number_of_robots, 1)\n",
    "        self.rewards = np.zeros(number_of_robots)\n",
    "\n",
    "        self.number_of_robots = number_of_robots\n",
    "\n",
    "    def next_generation(self):\n",
    "        self.weight1 = np.zeros((self.number_of_robots, 6, 4))\n",
    "        self.bais1 = np.zeros((self.number_of_robots, 6))\n",
    "        self.weight2 = np.zeros((self.number_of_robots, 1, 6))\n",
    "        self.bais2 = np.zeros((self.number_of_robots, 1))\n",
    "        self.rewards = np.zeros((self.number_of_robots))\n",
    "    def load(self):\n",
    "        self.weight1 = np.load('gene.weight1.npy')\n",
    "        self.bais1 = np.load('gene.bais1.npy')\n",
    "        self.weight2 = np.load('gene.weight2.npy')\n",
    "        self.bais2 = np.load('gene.bais2.npy')"
   ]
  },
  {
   "cell_type": "markdown",
   "metadata": {},
   "source": [
    "机器人单有基因是没有用的，就像人一样，我们不仅需要基因，还需要直到如何表达基因。\n",
    "对于机器人来说，在当前的状态下（观察值给出），我们需要计算出机器人的动作是什么。从数学的角度来讲，我们要根据输入（观察值）计算出神经网络的输出。\n",
    "神经网络只有一层中间层，在这层中间层后，我们使用一个sigmoid损失函数。\n",
    "在输出层，输出的是一个数，如果这个数小于0.5，我们直接把它设置为0，如果大于等于0.5，则设置为1。"
   ]
  },
  {
   "cell_type": "markdown",
   "metadata": {},
   "source": [
    "robot_gene类中，定义了神经网络结构如下： \n",
    "<img src=\"pic/nn.png\" width = \"400\" height = \"300\" alt=\"pic\" align=center />\n",
    "其中：\n",
    "<center>$X_{1} = g(W_{0}^{T}X_{0}+B_{0})$ </center> \n",
    "\n",
    "<center>  </center>  \n",
    "<center>$Y = W_{1}^{T}X_{1}+B_{1}$ </center>    \n",
    "\n",
    "<center>  </center>\n",
    "\n",
    "<center>$g = \\frac{1}{(1+e^{-X})}$</center>\n"
   ]
  },
  {
   "cell_type": "code",
   "execution_count": 6,
   "metadata": {},
   "outputs": [],
   "source": [
    "def calculate(observation,gene,index):\n",
    "    x1 = gene.weight1[index].dot(observation.T)+gene.bais1[index]\n",
    "    x2 = 1/(1 + np.exp(-x1))\n",
    "    x3 = gene.weight2[index].dot(x2.T)+gene.bais2[index]\n",
    "    y = np.where(x3 > 0.5, 1, 0)\n",
    "    return y"
   ]
  },
  {
   "cell_type": "markdown",
   "metadata": {},
   "source": [
    "- 现在，机器人们已经可以自己玩游戏了，根据观察到的情况，做出相应的反应。但是，他们可以做，不意味着他们能做得好。  \n",
    "- 很显然，机器人在立杆子游戏中的表现完全是由它们的基因决定的（这很容易理解，因为由观察值到动作是我们算出来的），如果一个机器人表现的不好，就说明它的基因不够优秀，按照自然界的的法则，不够优秀的基因大概率是要被淘汰的（没有机会繁衍后代）。  \n",
    "- 为了模仿自然选择的过程，我们可以设计一套很残酷的淘汰规则，在这一万个个体当中，表现最好的前一半可以继续存活，并且繁育后代，而后一半将被“杀死”，永远消失。在遗传算法中，并不是表现差的个体一定会被淘汰，也不是表现最好的个体就一定会被保留，淘汰这个过程被看作概率随机过程，表现好的个体有更高的概率存活，表现越好，概率越高，这样的目的也是为了增加随即搜索的宽度和深度。但是在本项目中，为了简便，我们直接采取这种残酷的一刀切的方式筛选优良基因。"
   ]
  },
  {
   "cell_type": "markdown",
   "metadata": {},
   "source": [
    "## 淘汰"
   ]
  },
  {
   "cell_type": "markdown",
   "metadata": {},
   "source": [
    "让我们看看最开始的这一万个机器人表现怎么样"
   ]
  },
  {
   "cell_type": "code",
   "execution_count": 7,
   "metadata": {},
   "outputs": [],
   "source": [
    "gene=robot_gene(number_of_robots)\n",
    "for index_of_robot in range(0, number_of_robots):\n",
    "        observation = env.reset()\n",
    "        ep_reward = 0\n",
    "        for step in range(0, 10000):  # Don't infinite loop while learning\n",
    "            behavior = calculate(observation, gene, index_of_robot)\n",
    "            observation, reward, done, _ = env.step(behavior.item())\n",
    "            ep_reward = ep_reward + reward\n",
    "            if done:\n",
    "                break\n",
    "        gene.rewards[index_of_robot] = ep_reward"
   ]
  },
  {
   "cell_type": "code",
   "execution_count": 8,
   "metadata": {},
   "outputs": [
    {
     "name": "stdout",
     "output_type": "stream",
     "text": [
      "最长时间： 5.0 \n",
      " 最短时间： 0.08 \n",
      " 平均时间： 0.122612\n"
     ]
    }
   ],
   "source": [
    "print('最长时间：',gene.rewards.max()/100,'\\n','最短时间：',gene.rewards.min()/100,'\\n',\\\n",
    "     '平均时间：',gene.rewards.mean()/100)"
   ]
  },
  {
   "cell_type": "markdown",
   "metadata": {},
   "source": [
    "- 这个立杆子游戏每局最长时间被限定在了5秒，从第一次实验来看，某些机器人天资聪颖，从一开始就能坚持满五秒，而大多数的机器人连一秒都坚持不到，因此平均坚持时间只有0.12秒。坚持时间最短的那个只有0.08秒。\n",
    "- 现实很残酷，按照优胜劣汰的法则，为了让整个种群能够进化，只能选择剔除弱者。这里把得分较低的五千个机器人“杀死”，剩下个五千个得分高的。"
   ]
  },
  {
   "cell_type": "code",
   "execution_count": 9,
   "metadata": {},
   "outputs": [],
   "source": [
    "def disuse(gene):\n",
    "    next_generation = robot_gene(number_of_robots)\n",
    "    next_generation.next_generation()\n",
    "    several_robot_index = np.argpartition(gene.rewards, -int(number_of_robots/2))[-int(number_of_robots/2):]\n",
    "    for i,index_of_robot in zip(range(0,len(several_robot_index)),several_robot_index):\n",
    "        next_generation.weight1[i] = gene.weight1[index_of_robot]\n",
    "        next_generation.bais1[i] = gene.bais1[index_of_robot]\n",
    "        next_generation.weight2[i] = gene.weight2[index_of_robot]\n",
    "        next_generation.bais2[i] = gene.bais2[index_of_robot]\n",
    "    return next_generation"
   ]
  },
  {
   "cell_type": "markdown",
   "metadata": {},
   "source": [
    "按照遗传算法理论，并不是弱者一定会被淘汰，也不是强者一定会生存下去，一个个体是否会被淘汰被看作一个概率事件，但是在这里为了简化算法，选择一刀切的方式。"
   ]
  },
  {
   "cell_type": "markdown",
   "metadata": {},
   "source": [
    "## 繁育后代"
   ]
  },
  {
   "cell_type": "markdown",
   "metadata": {},
   "source": [
    "进行了一轮淘汰后，种群中只剩下了5000个机器人个体。如同孩子的染色体来自于他的父母，我们同样希望机器人子代的基因来自于两个父代机器人。\n",
    "不要忘了，机器人的基因是神经网络函数中的参数。我们只要取某一个个体基因的一半，与另一个个体的基因的一半组合起来，就相当于这两个个体生成了一个子代个体。具体来说，这里将前2500个个体基因与后2500个个体的基因组合，生成了5000个新的个体。"
   ]
  },
  {
   "cell_type": "code",
   "execution_count": 10,
   "metadata": {},
   "outputs": [],
   "source": [
    "def cross_swapa(next_generation):\n",
    "    next_generation.weight1[int(number_of_robots / 2):int(number_of_robots * 3 / 4), :, 0:2] = next_generation.weight1[\n",
    "                                                                                               0:int(\n",
    "                                                                                                   number_of_robots / 4),\n",
    "                                                                                               :, 0:2].copy()\n",
    "    next_generation.weight1[int(number_of_robots * 3 / 4):int(number_of_robots), :, 0:2] = next_generation.weight1[\n",
    "                                                                                           int(number_of_robots / 4):int(\n",
    "                                                                                               number_of_robots / 2), :,\n",
    "                                                                                           0:2].copy()\n",
    "\n",
    "    next_generation.weight1[int(number_of_robots / 2):int(number_of_robots * 3 / 4), :, 2:4] = next_generation.weight1[\n",
    "                                                                                               int(number_of_robots / 4):int(\n",
    "                                                                                                   number_of_robots / 2),\n",
    "                                                                                               :, 2:4].copy()\n",
    "    next_generation.weight1[int(number_of_robots * 3 / 4):int(number_of_robots), :, 2:4] = next_generation.weight1[\n",
    "                                                                                           0:int(number_of_robots / 4),\n",
    "                                                                                           :, 2:4].copy()\n",
    "\n",
    "    next_generation.weight2[int(number_of_robots / 2):int(number_of_robots * 3 / 4), :, 0:3] = next_generation.weight2[\n",
    "                                                                                               0:int(\n",
    "                                                                                                   number_of_robots / 4),\n",
    "                                                                                               :, 0:3].copy()\n",
    "    next_generation.weight2[int(number_of_robots * 3 / 4):int(number_of_robots), :, 0:3] = next_generation.weight2[\n",
    "                                                                                           int(number_of_robots / 4):int(\n",
    "                                                                                               number_of_robots / 2), :,\n",
    "                                                                                           0:3].copy()\n",
    "\n",
    "    next_generation.weight2[int(number_of_robots / 2):int(number_of_robots * 3 / 4), :, 3:6] = next_generation.weight2[\n",
    "                                                                                               int(number_of_robots / 4):int(\n",
    "                                                                                                   number_of_robots / 2),\n",
    "                                                                                               :, 3:6].copy()\n",
    "    next_generation.weight2[int(number_of_robots * 3 / 4):int(number_of_robots), :, 3:6] = next_generation.weight2[\n",
    "                                                                                           0:int(number_of_robots / 4),\n",
    "                                                                                           :, 3:6].copy()\n",
    "\n",
    "    next_generation.bais1[int(number_of_robots / 2):int(number_of_robots * 3 / 4), 0:3] = next_generation.bais1[\n",
    "                                                                                          0:int(number_of_robots / 4),\n",
    "                                                                                          0:3].copy()\n",
    "    next_generation.bais1[int(number_of_robots * 3 / 4):int(number_of_robots), 0:3] = next_generation.bais1[\n",
    "                                                                                      int(number_of_robots / 4):int(\n",
    "                                                                                          number_of_robots / 2),\n",
    "                                                                                      0:3].copy()\n",
    "\n",
    "    next_generation.bais1[int(number_of_robots / 2):int(number_of_robots * 3 / 4), 3:6] = next_generation.bais1[\n",
    "                                                                                          int(number_of_robots / 4):int(\n",
    "                                                                                              number_of_robots / 2),\n",
    "                                                                                          3:6].copy()\n",
    "    next_generation.bais1[int(number_of_robots * 3 / 4):int(number_of_robots), 3:6] = next_generation.bais1[\n",
    "                                                                                      0:int(number_of_robots / 4),\n",
    "                                                                                      3:6].copy()"
   ]
  },
  {
   "cell_type": "markdown",
   "metadata": {},
   "source": [
    "这样一来，种群中有初代的五千个个体，子代五千个个体，总数保持了一万没有变。"
   ]
  },
  {
   "cell_type": "markdown",
   "metadata": {},
   "source": [
    "## 变异"
   ]
  },
  {
   "cell_type": "markdown",
   "metadata": {},
   "source": [
    "如同人类的基因总会因为各种原因产生一些变异一样，机器人种群也需要变异。变异本身是一种局部随即搜索，与选择、交叉算子结合在一起，就能避免由于选择和交叉计算引起的某些信息的永久丢失。\n",
    "在本项目中，我们选择了30%的变异概率，即30%的基因会产生变异，这些被选中的基因将加上一个（-2，2）之间均匀分布的随机数。"
   ]
  },
  {
   "cell_type": "code",
   "execution_count": 11,
   "metadata": {},
   "outputs": [],
   "source": [
    "def mutation(next_generation):\n",
    "    mutation_index1 = np.random.uniform(low=0, high=1, size=(int(number_of_robots / 2), 6, 4))\n",
    "    mutation_index2 = np.random.uniform(low=0, high=1, size=(int(number_of_robots / 2), 1, 6))\n",
    "    mutation_index3 = np.random.uniform(low=0, high=1, size=(int(number_of_robots / 2), 6))\n",
    "    mutation_index4 = np.random.uniform(low=0, high=1, size=(int(number_of_robots / 2), 1))\n",
    "\n",
    "    mutation_index11 = np.random.uniform(low=-2, high=2, size=(int(number_of_robots / 2), 6, 4))\n",
    "    mutation_index22 = np.random.uniform(low=-2, high=2, size=(int(number_of_robots / 2), 1, 6))\n",
    "    mutation_index33 = np.random.uniform(low=-2, high=2, size=(int(number_of_robots / 2), 6))\n",
    "    mutation_index44 = np.random.uniform(low=-2, high=2, size=(int(number_of_robots / 2), 1))\n",
    "\n",
    "    mutation1 = np.where(mutation_index1 > 0.7, 1, 0)\n",
    "    mutation1 = mutation1 * mutation_index11\n",
    "    mutation2 = np.where(mutation_index2 > 0.7, 1, 0)\n",
    "    mutation2 = mutation2 * mutation_index22\n",
    "    mutation3 = np.where(mutation_index3 > 0.7, 1, 0)\n",
    "    mutation3 = mutation3 * mutation_index33\n",
    "    mutation4 = np.where(mutation_index4 > 0.7, 1, 0)\n",
    "    mutation4 = mutation4 * mutation_index44\n",
    "\n",
    "    next_generation.weight1[int(number_of_robots / 2):] = next_generation.weight1[\n",
    "                                                          int(number_of_robots / 2):] + mutation1\n",
    "    next_generation.weight2[int(number_of_robots / 2):] = next_generation.weight2[\n",
    "                                                          int(number_of_robots / 2):] + mutation2\n",
    "    next_generation.bais1[int(number_of_robots / 2):] = next_generation.bais1[int(number_of_robots / 2):] + mutation3\n",
    "    next_generation.bais2[int(number_of_robots / 2):] = next_generation.bais2[int(number_of_robots / 2):] + mutation4"
   ]
  },
  {
   "cell_type": "markdown",
   "metadata": {},
   "source": [
    "至此，遗传的所有步骤都已经实现，最后，我们设置一个循环，让种群不断进化。"
   ]
  },
  {
   "cell_type": "markdown",
   "metadata": {},
   "source": [
    "## 进化"
   ]
  },
  {
   "cell_type": "markdown",
   "metadata": {},
   "source": [
    "将上述代码套进一个循环里面，设置50次循环，即让机器人繁衍五十代，来看看会有什么变化"
   ]
  },
  {
   "cell_type": "code",
   "execution_count": 34,
   "metadata": {},
   "outputs": [
    {
     "name": "stdout",
     "output_type": "stream",
     "text": [
      "0 :      11.9298\n",
      "10 :      48.8467\n",
      "20 :      120.3852\n",
      "30 :      233.33\n",
      "40 :      340.8145\n"
     ]
    }
   ],
   "source": [
    "gene=robot_gene(number_of_robots)\n",
    "\n",
    "for i in range(0, 50):\n",
    "    \n",
    "    for index_of_robot in range(0, number_of_robots):\n",
    "        observation = env.reset()\n",
    "        ep_reward = 0\n",
    "        for step in range(0, 10000):  # Don't infinite loop while learning\n",
    "            behavior = calculate(observation, gene, index_of_robot)\n",
    "            observation, reward, done, _ = env.step(behavior.item())\n",
    "            #env.render()\n",
    "            ep_reward = ep_reward + reward\n",
    "            if done:\n",
    "                break\n",
    "        gene.rewards[index_of_robot] = ep_reward\n",
    "    \n",
    "    if i % 10 == 0:\n",
    "        print(i, ':     ', gene.rewards.mean())\n",
    "    with open('log.txt', 'a') as f:\n",
    "        f.write(str(gene.rewards.mean())+'\\n')    \n",
    "    \n",
    "    next_generation = disuse(gene)\n",
    "    cross_swapa(next_generation)\n",
    "    mutation(next_generation)\n",
    "\n",
    "    gene = next_generation"
   ]
  },
  {
   "cell_type": "code",
   "execution_count": null,
   "metadata": {},
   "outputs": [],
   "source": [
    "np.save(\"filename.npy\",a)"
   ]
  },
  {
   "cell_type": "markdown",
   "metadata": {},
   "source": [
    "经过50次迭代后，个体的平均坚持时间已经到了3.4秒，可谓进步明显。机器人迭代五十代需要十几分钟，人类繁衍五十代却需要一千年！  \n",
    "我们让种群继续迭代150代，看看会发生什么。"
   ]
  },
  {
   "cell_type": "markdown",
   "metadata": {},
   "source": [
    "<img src=\"pic/data.png\" width = \"600\" height = \"500\" alt=\"pic\" align=center />"
   ]
  },
  {
   "cell_type": "markdown",
   "metadata": {},
   "source": [
    "迭代到第150次时，个体平均坚持时间已经可以达到4秒了。观察曲线，可得知遗传算法起了作用。"
   ]
  },
  {
   "cell_type": "markdown",
   "metadata": {},
   "source": [
    "## 测试"
   ]
  },
  {
   "cell_type": "markdown",
   "metadata": {},
   "source": [
    "继续迭代，经过五百次迭代后，看看种群整体会有什么表现。  \n",
    "加载保存的数据"
   ]
  },
  {
   "cell_type": "code",
   "execution_count": 39,
   "metadata": {},
   "outputs": [],
   "source": [
    "gene=robot_gene(number_of_robots)\n",
    "gene.load()\n",
    "for index_of_robot in range(0, number_of_robots):\n",
    "        observation = env.reset()\n",
    "        ep_reward = 0\n",
    "        for step in range(0, 10000):  # Don't infinite loop while learning\n",
    "            behavior = calculate(observation, gene, index_of_robot)\n",
    "            observation, reward, done, _ = env.step(behavior.item())\n",
    "            #env.render()\n",
    "            ep_reward = ep_reward + reward\n",
    "            if done:\n",
    "                break\n",
    "        gene.rewards[index_of_robot] = ep_reward"
   ]
  },
  {
   "cell_type": "code",
   "execution_count": 40,
   "metadata": {},
   "outputs": [
    {
     "name": "stdout",
     "output_type": "stream",
     "text": [
      "最长时间： 5.0 \n",
      " 最短时间： 0.08 \n",
      " 平均时间： 4.24463\n"
     ]
    }
   ],
   "source": [
    "print('最长时间：',gene.rewards.max()/100,'\\n','最短时间：',gene.rewards.min()/100,'\\n',\\\n",
    "     '平均时间：',gene.rewards.mean()/100)"
   ]
  },
  {
   "cell_type": "markdown",
   "metadata": {},
   "source": [
    "种群平均坚持时间已经达到了4.24秒，这是一个相当高的数字了。不过，仍然有些个体在拖后腿。"
   ]
  }
 ],
 "metadata": {
  "kernelspec": {
   "display_name": "Python 3",
   "language": "python",
   "name": "python3"
  },
  "language_info": {
   "codemirror_mode": {
    "name": "ipython",
    "version": 3
   },
   "file_extension": ".py",
   "mimetype": "text/x-python",
   "name": "python",
   "nbconvert_exporter": "python",
   "pygments_lexer": "ipython3",
   "version": "3.7.3"
  }
 },
 "nbformat": 4,
 "nbformat_minor": 2
}
